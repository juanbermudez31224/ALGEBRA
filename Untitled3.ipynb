{
  "nbformat": 4,
  "nbformat_minor": 0,
  "metadata": {
    "colab": {
      "provenance": [],
      "authorship_tag": "ABX9TyPlK2GuPzxgte8AzL0O55X4",
      "include_colab_link": true
    },
    "kernelspec": {
      "name": "python3",
      "display_name": "Python 3"
    },
    "language_info": {
      "name": "python"
    }
  },
  "cells": [
    {
      "cell_type": "markdown",
      "metadata": {
        "id": "view-in-github",
        "colab_type": "text"
      },
      "source": [
        "<a href=\"https://colab.research.google.com/github/juanbermudez31224/ALGEBRA/blob/main/Untitled3.ipynb\" target=\"_parent\"><img src=\"https://colab.research.google.com/assets/colab-badge.svg\" alt=\"Open In Colab\"/></a>"
      ]
    },
    {
      "cell_type": "code",
      "execution_count": null,
      "metadata": {
        "colab": {
          "base_uri": "https://localhost:8080/"
        },
        "id": "ITKd42M6qU5r",
        "outputId": "81a17603-ac16-4346-fcb2-93c301fd7e4a"
      },
      "outputs": [
        {
          "output_type": "stream",
          "name": "stdout",
          "text": [
            "[[-2 -2]\n",
            " [-2 -4]]\n"
          ]
        }
      ],
      "source": [
        "import numpy as np\n",
        "# Creamos las dos matrices\n",
        "A = np.array([[1, 2], [3, 4]])\n",
        "b = np.array([[3, 4], [5, 8]])\n",
        "# Realizamos la operación de resta y lo guardamos en un variable\n",
        "c = A - b\n",
        "#Mostramos el resultado de la operacion\n",
        "print(c)"
      ]
    },
    {
      "cell_type": "code",
      "source": [
        "import numpy as np\n",
        "# Creamos las dos matrices\n",
        "A = np.array([[12, 42], [56, 23]])\n",
        "b = np.array([[2, 2], [2, 2]])\n",
        "# Realizamos la operación de resta y lo guardamos en un variable\n",
        "c = A - b\n",
        "#Mostramos el resultado de la operacion\n",
        "print(c)"
      ],
      "metadata": {
        "id": "olaA1FvuVSAH",
        "outputId": "9b4f2647-9084-4499-8f00-479f2bdccf1b",
        "colab": {
          "base_uri": "https://localhost:8080/"
        }
      },
      "execution_count": null,
      "outputs": [
        {
          "output_type": "stream",
          "name": "stdout",
          "text": [
            "[[10 40]\n",
            " [54 21]]\n"
          ]
        }
      ]
    },
    {
      "cell_type": "code",
      "source": [
        "import numpy as np\n",
        "# Creamos las dos matrices\n",
        "A = np.array([[4, 8], [0, 8]])\n",
        "b = np.array([[3, 3], [4, 6]])\n",
        "# Realizamos la operación de resta y lo guardamos en un variable\n",
        "c = A - b\n",
        "#Mostramos el resultado de la operacion\n",
        "print(c)"
      ],
      "metadata": {
        "id": "nHegP7LEW7BA",
        "outputId": "7344bba2-7a02-4044-d90e-6d884087c39a",
        "colab": {
          "base_uri": "https://localhost:8080/"
        }
      },
      "execution_count": null,
      "outputs": [
        {
          "output_type": "stream",
          "name": "stdout",
          "text": [
            "[[ 1  5]\n",
            " [-4  2]]\n"
          ]
        }
      ]
    },
    {
      "cell_type": "code",
      "source": [
        "import numpy as np\n",
        "# Creamos las dos matrices\n",
        "A = np.array([[1, 2], [3, 4]])\n",
        "b = np.array([[3, 4], [5, 8]])\n",
        "#realizamos la operacion de suma y la gradamos en una variable\n",
        "C=A+b\n",
        "#mostramos el resultado de la operacion\n",
        "print(C)"
      ],
      "metadata": {
        "colab": {
          "base_uri": "https://localhost:8080/"
        },
        "id": "M_HWBzNlr2BJ",
        "outputId": "3badc7be-ffdc-45dc-fd6c-9a2f760fa210"
      },
      "execution_count": null,
      "outputs": [
        {
          "output_type": "stream",
          "name": "stdout",
          "text": [
            "[[ 4  6]\n",
            " [ 8 12]]\n"
          ]
        }
      ]
    },
    {
      "cell_type": "code",
      "source": [
        "import numpy as np\n",
        "# Creamos las dos matrices\n",
        "A = np.array([[11, 12], [13, 14]])\n",
        "b = np.array([[13, 24], [65, 83]])\n",
        "#realizamos la operacion de suma y la gradamos en una variable\n",
        "C=A+b\n",
        "#mostramos el resultado de la operacion\n",
        "print(C)"
      ],
      "metadata": {
        "id": "G4SbnEyEYAIB",
        "outputId": "4ccf2d56-2669-4a33-cbcb-71ddba6063e6",
        "colab": {
          "base_uri": "https://localhost:8080/"
        }
      },
      "execution_count": null,
      "outputs": [
        {
          "output_type": "stream",
          "name": "stdout",
          "text": [
            "[[24 36]\n",
            " [78 97]]\n"
          ]
        }
      ]
    },
    {
      "cell_type": "code",
      "source": [
        "import numpy as np\n",
        "# Creamos las dos matrices\n",
        "A = np.array([[5, 2], [5, 4]])\n",
        "b = np.array([[6, 4], [7, 0]])\n",
        "#realizamos la operacion de suma y la gradamos en una variable\n",
        "C=A+b\n",
        "#mostramos el resultado de la operacion\n",
        "print(C)"
      ],
      "metadata": {
        "id": "Ibjz5zZdYqmT",
        "outputId": "5b0d96f8-409a-4c68-a827-d4205068d39a",
        "colab": {
          "base_uri": "https://localhost:8080/"
        }
      },
      "execution_count": null,
      "outputs": [
        {
          "output_type": "stream",
          "name": "stdout",
          "text": [
            "[[11  6]\n",
            " [12  4]]\n"
          ]
        }
      ]
    },
    {
      "cell_type": "code",
      "source": [
        "import numpy as np\n",
        "# Definir las matrices 3x3\n",
        "A = np.array([[1, 0, 3], [24, 12, 6], [2, 0, 15]])\n",
        "B = np.array([[0, 8, 7], [7, 15, 4], [73, 6, 14]])\n",
        "# multiplicar las matrices las matrices\n",
        "C = A * B\n",
        "#mostramos el resultado\n",
        "print(C)"
      ],
      "metadata": {
        "colab": {
          "base_uri": "https://localhost:8080/"
        },
        "id": "914Xz3EmsSTy",
        "outputId": "ab957eec-0470-4fd4-91fe-0a033a875122"
      },
      "execution_count": null,
      "outputs": [
        {
          "output_type": "stream",
          "name": "stdout",
          "text": [
            "[[  0   0  21]\n",
            " [168 180  24]\n",
            " [146   0 210]]\n"
          ]
        }
      ]
    },
    {
      "cell_type": "code",
      "source": [
        "import numpy as np\n",
        "# Definir las matrices 3x3\n",
        "A = np.array([[1, 0, 3], [4, 12, 6], [2, 8, 15]])\n",
        "B = np.array([[3, 8, 7], [7, 5, 4], [7, 6, 4]])\n",
        "# multiplicar las matrices las matrices\n",
        "C = A * B\n",
        "#mostramos el resultado\n",
        "print(C)"
      ],
      "metadata": {
        "id": "61xxlk1HZHLT",
        "outputId": "96b13706-df72-41cb-b9f0-a29ee685ee89",
        "colab": {
          "base_uri": "https://localhost:8080/"
        }
      },
      "execution_count": null,
      "outputs": [
        {
          "output_type": "stream",
          "name": "stdout",
          "text": [
            "[[ 3  0 21]\n",
            " [28 60 24]\n",
            " [14 48 60]]\n"
          ]
        }
      ]
    },
    {
      "cell_type": "code",
      "source": [
        "import numpy as np\n",
        "# Definir las matrices 3x3\n",
        "A = np.array([[1, 8, 3], [4, 12, 6], [12, 8, 15]])\n",
        "B = np.array([[13, 8, 7], [0, 5, 4], [7, 0, 4]])\n",
        "# multiplicar las matrices las matrices\n",
        "C = A * B\n",
        "#mostramos el resultado\n",
        "print(C)"
      ],
      "metadata": {
        "id": "sh_s3PbrZIJY",
        "outputId": "da468b51-963d-447e-e46c-7fc3e468d7b7",
        "colab": {
          "base_uri": "https://localhost:8080/"
        }
      },
      "execution_count": null,
      "outputs": [
        {
          "output_type": "stream",
          "name": "stdout",
          "text": [
            "[[13 64 21]\n",
            " [ 0 60 24]\n",
            " [84  0 60]]\n"
          ]
        }
      ]
    },
    {
      "cell_type": "code",
      "source": [
        "import numpy as np\n",
        "#creamos la matriz A\n",
        "A = np.array([[1, 0, 3], [4, 12, 6], [2, 8, 15]])\n",
        "#le pedimos al usuario el escalar\n",
        "escalar= int(input(\"por cual numero desea multiplicar la matriz A \"))\n",
        "#hacemos la operacion y la guardamos en una variable\n",
        "E= escalar*A\n",
        "#imprimimos la matriz A\n",
        "print(\"matriz A\")\n",
        "print(A)\n",
        "#imprimimos el resultado\n",
        "print(\"matriz A * escalar\")\n",
        "print(E)"
      ],
      "metadata": {
        "colab": {
          "base_uri": "https://localhost:8080/"
        },
        "id": "jGygxewasjyo",
        "outputId": "19ec9b90-e4ef-4568-8edc-e217c1ee36ce"
      },
      "execution_count": null,
      "outputs": [
        {
          "output_type": "stream",
          "name": "stdout",
          "text": [
            "por cual numero desea multiplicar la matriz A 5\n",
            "matriz A\n",
            "[[ 1  0  3]\n",
            " [ 4 12  6]\n",
            " [ 2  8 15]]\n",
            "matriz A * escalar\n",
            "[[ 5  0 15]\n",
            " [20 60 30]\n",
            " [10 40 75]]\n"
          ]
        }
      ]
    },
    {
      "cell_type": "code",
      "source": [
        "import numpy as np\n",
        "#creamos la matriz N\n",
        "N=np.array([[15,9,7],[1,45,6],[7,5,7]])\n",
        "#imprimimos la matriz sin transponer\n",
        "print(\"La matriz N sin transponer es : \")\n",
        "print(N)\n",
        "#transponemos la matriz con la funcion transpose()\n",
        "matriz_transpuesta=N.T\n",
        "#imprimimos la matriz N transpuesta\n",
        "print(\"La matriz N transpuesta es :\")\n",
        "print(matriz_transpuesta)"
      ],
      "metadata": {
        "colab": {
          "base_uri": "https://localhost:8080/"
        },
        "id": "3TV7LlqZsy3G",
        "outputId": "4ac8d624-0d39-43cb-b16c-4284da1808ef"
      },
      "execution_count": null,
      "outputs": [
        {
          "output_type": "stream",
          "name": "stdout",
          "text": [
            "La matriz N sin transponer es : \n",
            "[[15  9  7]\n",
            " [ 1 45  6]\n",
            " [ 7  5  7]]\n",
            "La matriz N transpuesta es :\n",
            "[[15  1  7]\n",
            " [ 9 45  5]\n",
            " [ 7  6  7]]\n"
          ]
        }
      ]
    },
    {
      "cell_type": "code",
      "source": [
        "import numpy as np\n",
        "# Solicita la inversión inicial\n",
        "inversion_inicial = float(input(\"digite la inversion inicial: \"))\n",
        "# Solicita la cantidad de años\n",
        "n = int(input(\"cuantos años desea ingresar? \"))\n",
        "# Solicita los flujos de caja para cada año\n",
        "#se crea una lista para poder ingrear los flujos para cada año\n",
        "flujos = []\n",
        "for i in range(n):\n",
        "    valor = float(input(f\"Ingrese el flujo de caja para el año {i+1}: \"))\n",
        "    #usamos el append para ingresar el valor a la lista\n",
        "    flujos.append(valor)\n",
        "# Convierte la lista a array usando la funcion np.array que tiene numpy\n",
        "flujos = np.array(flujos)\n",
        "# Solicita la tasa de descuento\n",
        "tasa_descuento = float(input(\"Ingrese la tasa de descuento en porcentaje en el formato (4 = 4%): \")) / 100\n",
        "# Cálculo de los factores de descuento y valor presente\n",
        "#usamos np.arrange para organizar los valores\n",
        "años = np.arange(1, n + 1)\n",
        "factores_descuento = 1 / (1 + tasa_descuento) ** años\n",
        "valor_presente = flujos * factores_descuento\n",
        "# Cálculo del VPN\n",
        "VPN = valor_presente.sum() - inversion_inicial\n",
        "# imprimimos los resultados\n",
        "#usanos el np.round para mostrar la cantidad de decimales especificos que querramos\n",
        "print(\"\\nFactores de descuento:\", np.round(factores_descuento, 4))\n",
        "print(\"Valor presente de los flujos:\", np.round(valor_presente, 2))\n",
        "print(\"Valor Presente Neto (VPN):\", round(VPN, 2))"
      ],
      "metadata": {
        "id": "z3TasJuUdxMH",
        "outputId": "4c207769-e3d9-4c3d-ecd2-6d0d4c91f1f6",
        "colab": {
          "base_uri": "https://localhost:8080/"
        }
      },
      "execution_count": null,
      "outputs": [
        {
          "output_type": "stream",
          "name": "stdout",
          "text": [
            "digite la inversion inicial: 2\n",
            "cuantos años desea ingresar? 4\n",
            "Ingrese el flujo de caja para el año 1: 3\n",
            "Ingrese el flujo de caja para el año 2: 2\n",
            "Ingrese el flujo de caja para el año 3: 1\n",
            "Ingrese el flujo de caja para el año 4: 4\n",
            "Ingrese la tasa de descuento en porcentaje en el formato (4 = 4%): 6\n",
            "\n",
            "Factores de descuento: [0.9434 0.89   0.8396 0.7921]\n",
            "Valor presente de los flujos: [2.83 1.78 0.84 3.17]\n",
            "Valor Presente Neto (VPN): 6.62\n"
          ]
        }
      ]
    },
    {
      "cell_type": "code",
      "source": [
        "import numpy as np\n",
        "# problema 1\n",
        "# creamos la matriz que muestre la cantidad de productos segun la marca\n",
        "A = np.array([\n",
        "    [22, 46, 80],#agua de colonia\n",
        "    [2, 1.5, 3],#perfume\n",
        "    [0.6, 0.2, 0.1]#escencia\n",
        "])\n",
        "# Calculamos la suma total de la producción almacenada\n",
        "total = A + 2*A + 0.5*A + 3*A  # Equivale a (1 + 2 + 0.5 + 3) * A = 6.5 * A\n",
        "volumen_total = 6.5 * A\n",
        "# Usamos la funcion print la cual sirve para para mostrar cualquier tipo de dato\n",
        "print(\"Volumen total de producción almacenada (en litros):\")\n",
        "print(volumen_total)\n",
        "# calculamos el total usando la funcion np.sum para sumar los elementos de una matriz\n",
        "total_litros = np.sum(volumen_total)\n",
        "print(f\"\\nLitros totales almacenados: {total_litros}\")\n"
      ],
      "metadata": {
        "id": "kW-S86Z3BFMd"
      },
      "execution_count": null,
      "outputs": []
    },
    {
      "cell_type": "code",
      "source": [
        "import numpy as np\n",
        "# problema 2\n",
        "#creamos las dos matrices dadas en el ejercicio\n",
        "# Matriz R1: 3 emisores (G1-G3) → 4 receptores intermedios (P1-P4)\n",
        "R1 = np.array([\n",
        "    [0, 1, 0, 1],  # G1\n",
        "    [1, 0, 1, 0],  # G2\n",
        "    [0, 0, 1, 1]   # G3\n",
        "])\n",
        "# Matriz R2: 4 intermedios (P1-P4) → 3 destinatarios finales (Q1-Q3)\n",
        "R2 = np.array([\n",
        "    [1, 1, 0],  # P1\n",
        "    [0, 0, 1],  # P2\n",
        "    [1, 0, 1],  # P3\n",
        "    [0, 1, 1]   # P4\n",
        "])\n",
        "# hacemos el producto matricial entre R1 y R2 usando la funcion np.dot para hacer esta operacion\n",
        "resultado = np.dot(R1, R2)\n",
        "# ahora mostramos los resultados del producto matricial\n",
        "print(\"R1 * R2 =\")\n",
        "print(resultado)\n"
      ],
      "metadata": {
        "colab": {
          "base_uri": "https://localhost:8080/"
        },
        "id": "kKn7NVYKBf8b",
        "outputId": "2d391da5-a726-4146-9abf-599a60578cc5"
      },
      "execution_count": 4,
      "outputs": [
        {
          "output_type": "stream",
          "name": "stdout",
          "text": [
            "R1 * R2 =\n",
            "[[0 1 2]\n",
            " [2 1 1]\n",
            " [1 1 2]]\n"
          ]
        }
      ]
    },
    {
      "cell_type": "code",
      "source": [
        "import numpy as np\n",
        "# problema 3\n",
        "# Creamos la Matriz A la cual da la puntacion de los tres atletas usando la funcion np.array\n",
        "A = np.array([\n",
        "    [8, 7, 6, 5, 6],   # A1\n",
        "    [6, 4, 6, 3, 10],  # A2\n",
        "    [9, 6, 7, 2, 5]    # A3\n",
        "])\n",
        "# Creamos la Matriz J la cual da la ponderacion de cada uno de los jueces usando la funcion np.array\n",
        "J = np.array([\n",
        "    [2, 1, 1.5],#200 metros\n",
        "    [2, 3, 2],#1500 metros\n",
        "    [2, 2, 3.5],#longitud\n",
        "    [2, 2, 1.5],#disco\n",
        "    [2, 2, 1.5]#jabalina\n",
        "])\n",
        "# hacemos el producto matricial usando la funcion np.dot dada por numpy\n",
        "puntajes = np.dot(A, J)\n",
        "# Mostramos la matriz resultado\n",
        "print(\"Puntajes totales por atleta según cada juez (columnas J1, J2, J3):\")\n",
        "print(puntajes)\n",
        "\n",
        "# ahora organizamos los resultados para dar el lugar a cada atleta\n",
        "for j in range(3):\n",
        "  #usamos la funcion np.argsort la cual organiza los resultados de mayor a menor\n",
        "    ranking = np.argsort(puntajes[:, j])[::-1]  # Índices del mayor al menor\n",
        "    print(f\"\\n Podio según el Juez J{j+1}:\")\n",
        "    for lugar, idx in enumerate(ranking, start=1):\n",
        "        print(f\"  {lugar}º lugar: Atleta A{idx+1} con {puntajes[idx, j]} puntos\")"
      ],
      "metadata": {
        "id": "hvXHibmdCIKz"
      },
      "execution_count": null,
      "outputs": []
    },
    {
      "cell_type": "code",
      "source": [
        "import numpy as np\n",
        "# problema 4\n",
        "#creamos la matriz P\n",
        "# Filas: [Modelo A, Modelo B]\n",
        "# Columnas: [GX, GD, Ti]\n",
        "P = np.array([\n",
        "    [200, 100, 50],   # Modelo A\n",
        "    [150,  50, 10]    # Modelo B\n",
        "])\n",
        "#creamos la matriz H\n",
        "# Filas: [GX, GD, Ti]\n",
        "# Columnas: [Chapa, Montaje]\n",
        "H = np.array([\n",
        "    [25, 10],  # GX\n",
        "    [28, 12],  # GD\n",
        "    [28, 15]   # Ti\n",
        "])\n",
        "#hacemos el producto matricial entre P y H con la funcion np.dot\n",
        "horas_totales = np.dot(P, H)\n",
        "\n",
        "#imprimimos los resultados\n",
        "modelos = ['A', 'B']\n",
        "trabajos = ['Chapa', 'Montaje']\n",
        "#usamos un for para recorrer la matriz resultado e impirmir cada uno de ellos\n",
        "print(\" Horas totales requeridas por modelo:\\n\")\n",
        "for i in range(len(modelos)):\n",
        "    print(f\"Modelo {modelos[i]}:\")\n",
        "    for j in range(len(trabajos)):\n",
        "        print(f\"  {trabajos[j]}: {horas_totales[i, j]} horas\")"
      ],
      "metadata": {
        "colab": {
          "base_uri": "https://localhost:8080/"
        },
        "id": "0yOWvzsyCoax",
        "outputId": "b6e3289a-ab8c-4f2c-e765-fb5aeb9ff48b"
      },
      "execution_count": 5,
      "outputs": [
        {
          "output_type": "stream",
          "name": "stdout",
          "text": [
            " Horas totales requeridas por modelo:\n",
            "\n",
            "Modelo A:\n",
            "  Chapa: 9200 horas\n",
            "  Montaje: 3950 horas\n",
            "Modelo B:\n",
            "  Chapa: 5430 horas\n",
            "  Montaje: 2250 horas\n"
          ]
        }
      ]
    },
    {
      "cell_type": "code",
      "source": [
        "import numpy as np\n",
        "# problema 5\n",
        "#creamos la matriz E que representa los envios humanitarios\n",
        "# Filas: Países A, B, C\n",
        "# Columnas: Artículos [Ropa, Medicamentos, Víveres]\n",
        "E = np.array([\n",
        "    [220, 12, 680],   # País A\n",
        "    [180, 40, 450],   # País B\n",
        "    [300, 9, 760]     # País C\n",
        "])\n",
        "#creamos dos vectores que representan el valor por tonelada\n",
        "# Precios por tonelada para 1994 y 1995: [Ropa, Medicamentos, Víveres]\n",
        "valores_1994 = np.array([200, 50000, 110])\n",
        "valores_1995 = np.array([210, 54000, 115])\n",
        "# hacemos el producto matricial para saber el valor de cada pais segun el año\n",
        "valores_por_pais_1994 = E @ valores_1994\n",
        "valores_por_pais_1995 = E @ valores_1995\n",
        "#ahora sumamos todos los datos dentro de la matriz para hallar el valor total\n",
        "valor_total_1995 = np.sum(valores_por_pais_1995)\n",
        "#hacemos un for para reccorrer la matriz solucion y mostrar cada uno delos resultados\n",
        "paises = ['A', 'B', 'C']\n",
        "print(\" Valor de la ayuda enviada por país:\\n\")\n",
        "for i in range(len(paises)):\n",
        "    print(f\"País {paises[i]}:\")\n",
        "    print(f\"  Año 1994: ${valores_por_pais_1994[i]:,.2f}\")\n",
        "    print(f\"  Año 1995: ${valores_por_pais_1995[i]:,.2f}\")\n",
        "print(f\"\\n🧾 Valor total enviado en 1995: ${valor_total_1995:,.2f}\")"
      ],
      "metadata": {
        "id": "S2hm7iE8C-Ca"
      },
      "execution_count": null,
      "outputs": []
    },
    {
      "cell_type": "code",
      "source": [
        "import numpy as np\n",
        "# problema 6\n",
        "# Creamos la matriz A la cual representa la produccion en enero\n",
        "A = np.array([\n",
        "    [2, 0, 3],  # José\n",
        "    [1, 1, 4],  # Pedro\n",
        "    [1, 2, 3]   # Arturo\n",
        "])\n",
        "# Creamos la matriz B la cual representa la produccion en febrero\n",
        "B = np.array([\n",
        "    [1, 2, 3],  # José\n",
        "    [2, 0, 3],  # Pedro\n",
        "    [2, 1, 4]   # Arturo\n",
        "])\n",
        "# Creamos la matriz X la cual representa el valor por unidad de cada uno de los materiales\n",
        "X = np.array([\n",
        "    [500],#Caoba\n",
        "    [400],#Cedro\n",
        "    [100]#Pino tratado\n",
        "])\n",
        "#hacemos producto matricial entre A y X\n",
        "AX = A @ X\n",
        "#hacemos producto matricial entre B y X\n",
        "BX = B @ X\n",
        "#sumamos A y B para sacar la produccion total en los dos meses\n",
        "A_mas_B = A + B\n",
        "#sumamos A y B para sacar el salario total en los dos meses\n",
        "total_salario = A_mas_B @ X\n",
        "#usamos un for para mostrar cada uno de los tres resultados\n",
        "trabajadores = [\"José\", \"Pedro\", \"Arturo\"]\n",
        "print(\" Salarios enero (AX):\")\n",
        "for i, nombre in enumerate(trabajadores):\n",
        "    print(f\"  {nombre}: {AX[i,0]} €\")\n",
        "print(\"\\n Salarios febrero (BX):\")\n",
        "for i, nombre in enumerate(trabajadores):\n",
        "    print(f\"  {nombre}: {BX[i,0]} €\")\n",
        "print(\"\\n Producción total enero + febrero (A + B):\")\n",
        "print(A_mas_B)\n",
        "print(\"\\n Salario total en los dos meses:\")\n",
        "for i, nombre in enumerate(trabajadores):\n",
        "    print(f\"  {nombre}: {total_salario[i,0]} €\")"
      ],
      "metadata": {
        "id": "zYMTd3_HDCyg"
      },
      "execution_count": null,
      "outputs": []
    },
    {
      "cell_type": "code",
      "source": [
        "import numpy as np\n",
        "# problema 7\n",
        "#creamos la matriz Q que representa la cantidad de gramos de cada queso\n",
        "# Columnas: [Bandeja A, Bandeja B, Bandeja C]\n",
        "Q = np.array([\n",
        "    [40, 120, 150],   # Manchego\n",
        "    [160, 120, 80],   # Roquefort\n",
        "    [80, 120, 80]     # Camembert\n",
        "])\n",
        "#creamos la matriz T que representa la cantidad de bandejas de cada queso\n",
        "# Filas: [A, B, C]\n",
        "T = np.array([\n",
        "    [50],\n",
        "    [80],\n",
        "    [100]\n",
        "])\n",
        "#calculamos el total de gramos usando el producto matricial entre Q y T\n",
        "total_gramos = Q @ T\n",
        "#dividimos el total de gramos en 1000 para convertirlo en kg\n",
        "total_kg = total_gramos / 1000\n",
        "#usamos un for para mostrar cada uno de los resultados\n",
        "quesos = [\"Manchego\", \"Roquefort\", \"Camembert\"]\n",
        "print(\" Cantidades necesarias en kilogramos:\\n\")\n",
        "for i in range(len(quesos)):\n",
        "    print(f\"  {quesos[i]}: {total_kg[i, 0]:.2f} kg\")"
      ],
      "metadata": {
        "id": "GUKY6T4NDa6i"
      },
      "execution_count": null,
      "outputs": []
    },
    {
      "cell_type": "code",
      "source": [
        "import numpy as np\n",
        "#problema 8\n",
        "#creamos la matriz cantidades para representar la cantidad de fruta que quiere cada persona\n",
        "# Filas: A, B, C\n",
        "# Columnas: [Peras, Manzanas, Naranjas]\n",
        "cantidades = np.array([\n",
        "    [2, 1, 6],  # Persona A\n",
        "    [2, 2, 4],  # Persona B\n",
        "    [1, 2, 3]   # Persona C\n",
        "])\n",
        "#creamos la matriz precios para representar el precio de cada fruta dependiendo de la tienda\n",
        "# Filas: [F1, F2]\n",
        "# Columnas: [Peras, Manzanas, Naranjas]\n",
        "precios = np.array([\n",
        "    [1.5, 1.0, 2.0],   # F1\n",
        "    [1.8, 0.8, 2.0]    # F2\n",
        "])\n",
        "# Transponemos la matriz de precios para que las columnas correspondan con frutas\n",
        "precios_T = precios.T  # Ahora columnas: F1, F2\n",
        "\n",
        "#ahora hacemos producto matricial entre cantidades y precios_T para calcular los gastos\n",
        "gastos = cantidades @ precios_T\n",
        "#ahora mostramos los resultados usando un for para cada mostrar cada uno de ellos\n",
        "personas = ['A', 'B', 'C']\n",
        "tiendas = ['F1', 'F2']\n",
        "print(\" Gasto total por persona en cada frutería:\\n\")\n",
        "for i, persona in enumerate(personas):\n",
        "    for j, tienda in enumerate(tiendas):\n",
        "        print(f\"  Persona {persona} en {tienda}: {gastos[i, j]:.2f} €\")\n"
      ],
      "metadata": {
        "id": "E8_XrNwoER3P"
      },
      "execution_count": null,
      "outputs": []
    },
    {
      "cell_type": "code",
      "source": [
        "import numpy as np\n",
        "\n",
        "#Problema 9\n",
        "\n",
        "# hacemos una matriz la cual contenga la informacion de las familias A,B y C con la funcion np.array dada por numpy\n",
        "habitaciones = np.array([\n",
        "    [2, 1],  # Familia A\n",
        "    [3, 1],  # Familia B\n",
        "    [1, 0]   # Familia C\n",
        "])\n",
        "# hacemos otra matriz pero esta vez con los precios de las habitaciones usando la misma funcion np.array\n",
        "precios_hoteles = np.array([\n",
        "    [84, 86, 85],   # Precios habitación doble en H1, H2, H3\n",
        "    [45, 44, 43]    # Precios habitación individual\n",
        "])\n",
        "\n",
        "#ahora usamos el producto matricial dado por la funcion @ para hallar el precio por familia\n",
        "costos_familias = habitaciones @ precios_hoteles\n",
        "#creamos dos listas de familia y hoteles para poder mostrarlo en el resultado\n",
        "familias = ['A', 'B', 'C']\n",
        "hoteles = ['H1', 'H2', 'H3']\n",
        "#creamos un dor para cada lista e imprimimos los resulatados mostrando cada posible solucion para las tres familias\n",
        "print(\"Costo diario por familia en cada hotel:\\n\")\n",
        "for i in range(len(familias)):\n",
        "    for j in range(len(hoteles)):\n",
        "        print(f\"  Familia {familias[i]} en {hoteles[j]}: {costos_familias[i, j]} €\")"
      ],
      "metadata": {
        "colab": {
          "base_uri": "https://localhost:8080/"
        },
        "id": "ssOcshd8FGjC",
        "outputId": "bbe1aaf0-200b-4dc0-9980-1848c1c5d5a2"
      },
      "execution_count": 3,
      "outputs": [
        {
          "output_type": "stream",
          "name": "stdout",
          "text": [
            "Costo diario por familia en cada hotel:\n",
            "\n",
            "  Familia A en H1: 213 €\n",
            "  Familia A en H2: 216 €\n",
            "  Familia A en H3: 213 €\n",
            "  Familia B en H1: 297 €\n",
            "  Familia B en H2: 302 €\n",
            "  Familia B en H3: 298 €\n",
            "  Familia C en H1: 84 €\n",
            "  Familia C en H2: 86 €\n",
            "  Familia C en H3: 85 €\n"
          ]
        }
      ]
    },
    {
      "cell_type": "code",
      "source": [
        "import numpy as np\n",
        "# problema 10\n",
        "# creamos la matriz ingredientes que representa los ingredientes por postre\n",
        "# Columnas: [Leche (L), Azúcar (g), Huevos]\n",
        "ingredientes = np.array([\n",
        "    [0.75, 100, 4],   # Postre A\n",
        "    [0.75, 112, 7],   # Postre B\n",
        "    [1.0,  200, 0]    # Postre C\n",
        "])\n",
        "#se nos dan los siguientes precios unitarios\n",
        "# Leche: 0.6 $/litro\n",
        "# Azúcar: 1 $/kg → 0.001 $/g\n",
        "# Huevos: 1.2 $/docena → 0.1 $/unidad\n",
        "#creamos una matriz con los datos que se nos da\n",
        "precios = np.array([\n",
        "    [0.6],     # €/litro leche\n",
        "    [0.001],   # €/gramo azúcar\n",
        "    [0.1]      # €/huevo\n",
        "])\n",
        "# usamos el producto matricial para calcular el costo total del postre\n",
        "costos = ingredientes @ precios\n",
        "#mostramos los resultados usando un for para mostrar cada uno de los resultados\n",
        "postres = ['A', 'B', 'C']\n",
        "print(\"Costo total de cada postre:\\n\")\n",
        "for i, p in enumerate(postres):\n",
        "    print(f\"  Postre {p}: {costos[i, 0]:.3f} €\")"
      ],
      "metadata": {
        "id": "yerf6bpzFWtF"
      },
      "execution_count": null,
      "outputs": []
    }
  ]
}