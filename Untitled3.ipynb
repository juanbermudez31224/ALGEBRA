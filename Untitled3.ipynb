{
  "nbformat": 4,
  "nbformat_minor": 0,
  "metadata": {
    "colab": {
      "provenance": [],
      "authorship_tag": "ABX9TyPNWD7vnPcVyFwvpG1mDySD",
      "include_colab_link": true
    },
    "kernelspec": {
      "name": "python3",
      "display_name": "Python 3"
    },
    "language_info": {
      "name": "python"
    }
  },
  "cells": [
    {
      "cell_type": "markdown",
      "metadata": {
        "id": "view-in-github",
        "colab_type": "text"
      },
      "source": [
        "<a href=\"https://colab.research.google.com/github/juanbermudez31224/ALGEBRA/blob/main/Untitled3.ipynb\" target=\"_parent\"><img src=\"https://colab.research.google.com/assets/colab-badge.svg\" alt=\"Open In Colab\"/></a>"
      ]
    },
    {
      "cell_type": "code",
      "execution_count": null,
      "metadata": {
        "colab": {
          "base_uri": "https://localhost:8080/"
        },
        "id": "ITKd42M6qU5r",
        "outputId": "81a17603-ac16-4346-fcb2-93c301fd7e4a"
      },
      "outputs": [
        {
          "output_type": "stream",
          "name": "stdout",
          "text": [
            "[[-2 -2]\n",
            " [-2 -4]]\n"
          ]
        }
      ],
      "source": [
        "import numpy as np\n",
        "# Creamos las dos matrices\n",
        "A = np.array([[1, 2], [3, 4]])\n",
        "b = np.array([[3, 4], [5, 8]])\n",
        "# Realizamos la operación de resta y lo guardamos en un variable\n",
        "c = A - b\n",
        "#Mostramos el resultado de la operacion\n",
        "print(c)"
      ]
    },
    {
      "cell_type": "code",
      "source": [
        "import numpy as np\n",
        "# Creamos las dos matrices\n",
        "A = np.array([[12, 42], [56, 23]])\n",
        "b = np.array([[2, 2], [2, 2]])\n",
        "# Realizamos la operación de resta y lo guardamos en un variable\n",
        "c = A - b\n",
        "#Mostramos el resultado de la operacion\n",
        "print(c)"
      ],
      "metadata": {
        "id": "olaA1FvuVSAH",
        "outputId": "9b4f2647-9084-4499-8f00-479f2bdccf1b",
        "colab": {
          "base_uri": "https://localhost:8080/"
        }
      },
      "execution_count": 1,
      "outputs": [
        {
          "output_type": "stream",
          "name": "stdout",
          "text": [
            "[[10 40]\n",
            " [54 21]]\n"
          ]
        }
      ]
    },
    {
      "cell_type": "code",
      "source": [
        "import numpy as np\n",
        "# Creamos las dos matrices\n",
        "A = np.array([[4, 8], [0, 8]])\n",
        "b = np.array([[3, 3], [4, 6]])\n",
        "# Realizamos la operación de resta y lo guardamos en un variable\n",
        "c = A - b\n",
        "#Mostramos el resultado de la operacion\n",
        "print(c)"
      ],
      "metadata": {
        "id": "nHegP7LEW7BA",
        "outputId": "7344bba2-7a02-4044-d90e-6d884087c39a",
        "colab": {
          "base_uri": "https://localhost:8080/"
        }
      },
      "execution_count": 2,
      "outputs": [
        {
          "output_type": "stream",
          "name": "stdout",
          "text": [
            "[[ 1  5]\n",
            " [-4  2]]\n"
          ]
        }
      ]
    },
    {
      "cell_type": "code",
      "source": [
        "import numpy as np\n",
        "# Creamos las dos matrices\n",
        "A = np.array([[1, 2], [3, 4]])\n",
        "b = np.array([[3, 4], [5, 8]])\n",
        "#realizamos la operacion de suma y la gradamos en una variable\n",
        "C=A+b\n",
        "#mostramos el resultado de la operacion\n",
        "print(C)"
      ],
      "metadata": {
        "colab": {
          "base_uri": "https://localhost:8080/"
        },
        "id": "M_HWBzNlr2BJ",
        "outputId": "3badc7be-ffdc-45dc-fd6c-9a2f760fa210"
      },
      "execution_count": null,
      "outputs": [
        {
          "output_type": "stream",
          "name": "stdout",
          "text": [
            "[[ 4  6]\n",
            " [ 8 12]]\n"
          ]
        }
      ]
    },
    {
      "cell_type": "code",
      "source": [
        "import numpy as np\n",
        "# Creamos las dos matrices\n",
        "A = np.array([[11, 12], [13, 14]])\n",
        "b = np.array([[13, 24], [65, 83]])\n",
        "#realizamos la operacion de suma y la gradamos en una variable\n",
        "C=A+b\n",
        "#mostramos el resultado de la operacion\n",
        "print(C)"
      ],
      "metadata": {
        "id": "G4SbnEyEYAIB",
        "outputId": "4ccf2d56-2669-4a33-cbcb-71ddba6063e6",
        "colab": {
          "base_uri": "https://localhost:8080/"
        }
      },
      "execution_count": 3,
      "outputs": [
        {
          "output_type": "stream",
          "name": "stdout",
          "text": [
            "[[24 36]\n",
            " [78 97]]\n"
          ]
        }
      ]
    },
    {
      "cell_type": "code",
      "source": [
        "import numpy as np\n",
        "# Creamos las dos matrices\n",
        "A = np.array([[5, 2], [5, 4]])\n",
        "b = np.array([[6, 4], [7, 0]])\n",
        "#realizamos la operacion de suma y la gradamos en una variable\n",
        "C=A+b\n",
        "#mostramos el resultado de la operacion\n",
        "print(C)"
      ],
      "metadata": {
        "id": "Ibjz5zZdYqmT",
        "outputId": "5b0d96f8-409a-4c68-a827-d4205068d39a",
        "colab": {
          "base_uri": "https://localhost:8080/"
        }
      },
      "execution_count": 4,
      "outputs": [
        {
          "output_type": "stream",
          "name": "stdout",
          "text": [
            "[[11  6]\n",
            " [12  4]]\n"
          ]
        }
      ]
    },
    {
      "cell_type": "code",
      "source": [
        "import numpy as np\n",
        "# Definir las matrices 3x3\n",
        "A = np.array([[1, 0, 3], [24, 12, 6], [2, 0, 15]])\n",
        "B = np.array([[0, 8, 7], [7, 15, 4], [73, 6, 14]])\n",
        "# multiplicar las matrices las matrices\n",
        "C = A * B\n",
        "#mostramos el resultado\n",
        "print(C)"
      ],
      "metadata": {
        "colab": {
          "base_uri": "https://localhost:8080/"
        },
        "id": "914Xz3EmsSTy",
        "outputId": "ab957eec-0470-4fd4-91fe-0a033a875122"
      },
      "execution_count": 5,
      "outputs": [
        {
          "output_type": "stream",
          "name": "stdout",
          "text": [
            "[[  0   0  21]\n",
            " [168 180  24]\n",
            " [146   0 210]]\n"
          ]
        }
      ]
    },
    {
      "cell_type": "code",
      "source": [
        "import numpy as np\n",
        "# Definir las matrices 3x3\n",
        "A = np.array([[1, 0, 3], [4, 12, 6], [2, 8, 15]])\n",
        "B = np.array([[3, 8, 7], [7, 5, 4], [7, 6, 4]])\n",
        "# multiplicar las matrices las matrices\n",
        "C = A * B\n",
        "#mostramos el resultado\n",
        "print(C)"
      ],
      "metadata": {
        "id": "61xxlk1HZHLT",
        "outputId": "96b13706-df72-41cb-b9f0-a29ee685ee89",
        "colab": {
          "base_uri": "https://localhost:8080/"
        }
      },
      "execution_count": 7,
      "outputs": [
        {
          "output_type": "stream",
          "name": "stdout",
          "text": [
            "[[ 3  0 21]\n",
            " [28 60 24]\n",
            " [14 48 60]]\n"
          ]
        }
      ]
    },
    {
      "cell_type": "code",
      "source": [
        "import numpy as np\n",
        "# Definir las matrices 3x3\n",
        "A = np.array([[1, 8, 3], [4, 12, 6], [12, 8, 15]])\n",
        "B = np.array([[13, 8, 7], [0, 5, 4], [7, 0, 4]])\n",
        "# multiplicar las matrices las matrices\n",
        "C = A * B\n",
        "#mostramos el resultado\n",
        "print(C)"
      ],
      "metadata": {
        "id": "sh_s3PbrZIJY",
        "outputId": "da468b51-963d-447e-e46c-7fc3e468d7b7",
        "colab": {
          "base_uri": "https://localhost:8080/"
        }
      },
      "execution_count": 6,
      "outputs": [
        {
          "output_type": "stream",
          "name": "stdout",
          "text": [
            "[[13 64 21]\n",
            " [ 0 60 24]\n",
            " [84  0 60]]\n"
          ]
        }
      ]
    },
    {
      "cell_type": "code",
      "source": [
        "import numpy as np\n",
        "#creamos la matriz A\n",
        "A = np.array([[1, 0, 3], [4, 12, 6], [2, 8, 15]])\n",
        "#le pedimos al usuario el escalar\n",
        "escalar= int(input(\"por cual numero desea multiplicar la matriz A \"))\n",
        "#hacemos la operacion y la guardamos en una variable\n",
        "E= escalar*A\n",
        "#imprimimos la matriz A\n",
        "print(\"matriz A\")\n",
        "print(A)\n",
        "#imprimimos el resultado\n",
        "print(\"matriz A * escalar\")\n",
        "print(E)"
      ],
      "metadata": {
        "colab": {
          "base_uri": "https://localhost:8080/"
        },
        "id": "jGygxewasjyo",
        "outputId": "19ec9b90-e4ef-4568-8edc-e217c1ee36ce"
      },
      "execution_count": null,
      "outputs": [
        {
          "output_type": "stream",
          "name": "stdout",
          "text": [
            "por cual numero desea multiplicar la matriz A 5\n",
            "matriz A\n",
            "[[ 1  0  3]\n",
            " [ 4 12  6]\n",
            " [ 2  8 15]]\n",
            "matriz A * escalar\n",
            "[[ 5  0 15]\n",
            " [20 60 30]\n",
            " [10 40 75]]\n"
          ]
        }
      ]
    },
    {
      "cell_type": "code",
      "source": [
        "import numpy as np\n",
        "#creamos la matriz N\n",
        "N=np.array([[15,9,7],[1,45,6],[7,5,7]])\n",
        "#imprimimos la matriz sin transponer\n",
        "print(\"La matriz N sin transponer es : \")\n",
        "print(N)\n",
        "#transponemos la matriz con la funcion transpose()\n",
        "matriz_transpuesta=N.T\n",
        "#imprimimos la matriz N transpuesta\n",
        "print(\"La matriz N transpuesta es :\")\n",
        "print(matriz_transpuesta)"
      ],
      "metadata": {
        "colab": {
          "base_uri": "https://localhost:8080/"
        },
        "id": "3TV7LlqZsy3G",
        "outputId": "4ac8d624-0d39-43cb-b16c-4284da1808ef"
      },
      "execution_count": null,
      "outputs": [
        {
          "output_type": "stream",
          "name": "stdout",
          "text": [
            "La matriz N sin transponer es : \n",
            "[[15  9  7]\n",
            " [ 1 45  6]\n",
            " [ 7  5  7]]\n",
            "La matriz N transpuesta es :\n",
            "[[15  1  7]\n",
            " [ 9 45  5]\n",
            " [ 7  6  7]]\n"
          ]
        }
      ]
    }
  ]
}