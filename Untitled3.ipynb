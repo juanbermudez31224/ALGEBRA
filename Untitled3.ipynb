{
  "nbformat": 4,
  "nbformat_minor": 0,
  "metadata": {
    "colab": {
      "provenance": [],
      "authorship_tag": "ABX9TyNdyrYlJNQgZyG3ll1kdkOd",
      "include_colab_link": true
    },
    "kernelspec": {
      "name": "python3",
      "display_name": "Python 3"
    },
    "language_info": {
      "name": "python"
    }
  },
  "cells": [
    {
      "cell_type": "markdown",
      "metadata": {
        "id": "view-in-github",
        "colab_type": "text"
      },
      "source": [
        "<a href=\"https://colab.research.google.com/github/juanbermudez31224/ALGEBRA/blob/main/Untitled3.ipynb\" target=\"_parent\"><img src=\"https://colab.research.google.com/assets/colab-badge.svg\" alt=\"Open In Colab\"/></a>"
      ]
    },
    {
      "cell_type": "code",
      "execution_count": 1,
      "metadata": {
        "colab": {
          "base_uri": "https://localhost:8080/"
        },
        "id": "ITKd42M6qU5r",
        "outputId": "81a17603-ac16-4346-fcb2-93c301fd7e4a"
      },
      "outputs": [
        {
          "output_type": "stream",
          "name": "stdout",
          "text": [
            "[[-2 -2]\n",
            " [-2 -4]]\n"
          ]
        }
      ],
      "source": [
        "import numpy as np\n",
        "# Creamos las dos matrices\n",
        "A = np.array([[1, 2], [3, 4]])\n",
        "b = np.array([[3, 4], [5, 8]])\n",
        "# Realizamos la operación de resta y lo guardamos en un variable\n",
        "c = A - b\n",
        "#Mostramos el resultado de la operacion\n",
        "print(c)"
      ]
    },
    {
      "cell_type": "code",
      "source": [
        "import numpy as np\n",
        "# Creamos las dos matrices\n",
        "A = np.array([[1, 2], [3, 4]])\n",
        "b = np.array([[3, 4], [5, 8]])\n",
        "#realizamos la operacion de suma y la gradamos en una variable\n",
        "C=A+b\n",
        "#mostramos el resultado de la operacion\n",
        "print(C)"
      ],
      "metadata": {
        "colab": {
          "base_uri": "https://localhost:8080/"
        },
        "id": "M_HWBzNlr2BJ",
        "outputId": "3badc7be-ffdc-45dc-fd6c-9a2f760fa210"
      },
      "execution_count": 2,
      "outputs": [
        {
          "output_type": "stream",
          "name": "stdout",
          "text": [
            "[[ 4  6]\n",
            " [ 8 12]]\n"
          ]
        }
      ]
    },
    {
      "cell_type": "code",
      "source": [
        "import numpy as np\n",
        "# Definir las matrices 3x3\n",
        "A = np.array([[1, 0, 3], [4, 12, 6], [2, 8, 15]])\n",
        "B = np.array([[3, 8, 7], [7, 5, 4], [7, 6, 4]])\n",
        "# multiplicar las matrices las matrices\n",
        "C = A * B\n",
        "#mostramos el resultado\n",
        "print(C)"
      ],
      "metadata": {
        "colab": {
          "base_uri": "https://localhost:8080/"
        },
        "id": "914Xz3EmsSTy",
        "outputId": "1c64afc3-1021-43f7-ff0d-546c1d4a8615"
      },
      "execution_count": 4,
      "outputs": [
        {
          "output_type": "stream",
          "name": "stdout",
          "text": [
            "[[ 3  0 21]\n",
            " [28 60 24]\n",
            " [14 48 60]]\n"
          ]
        }
      ]
    },
    {
      "cell_type": "code",
      "source": [
        "import numpy as np\n",
        "#creamos la matriz A\n",
        "A = np.array([[1, 0, 3], [4, 12, 6], [2, 8, 15]])\n",
        "#le pedimos al usuario el escalar\n",
        "escalar= int(input(\"por cual numero desea multiplicar la matriz A \"))\n",
        "#hacemos la operacion y la guardamos en una variable\n",
        "E= escalar*A\n",
        "#imprimimos la matriz A\n",
        "print(\"matriz A\")\n",
        "print(A)\n",
        "#imprimimos el resultado\n",
        "print(\"matriz A * escalar\")\n",
        "print(E)"
      ],
      "metadata": {
        "colab": {
          "base_uri": "https://localhost:8080/"
        },
        "id": "jGygxewasjyo",
        "outputId": "19ec9b90-e4ef-4568-8edc-e217c1ee36ce"
      },
      "execution_count": 5,
      "outputs": [
        {
          "output_type": "stream",
          "name": "stdout",
          "text": [
            "por cual numero desea multiplicar la matriz A 5\n",
            "matriz A\n",
            "[[ 1  0  3]\n",
            " [ 4 12  6]\n",
            " [ 2  8 15]]\n",
            "matriz A * escalar\n",
            "[[ 5  0 15]\n",
            " [20 60 30]\n",
            " [10 40 75]]\n"
          ]
        }
      ]
    },
    {
      "cell_type": "code",
      "source": [
        "import numpy as np\n",
        "#creamos la matriz N\n",
        "N=np.array([[15,9,7],[1,45,6],[7,5,7]])\n",
        "#imprimimos la matriz sin transponer\n",
        "print(\"La matriz N sin transponer es : \")\n",
        "print(N)\n",
        "#transponemos la matriz con la funcion transpose()\n",
        "matriz_transpuesta=N.T\n",
        "#imprimimos la matriz N transpuesta\n",
        "print(\"La matriz N transpuesta es :\")\n",
        "print(matriz_transpuesta)"
      ],
      "metadata": {
        "colab": {
          "base_uri": "https://localhost:8080/"
        },
        "id": "3TV7LlqZsy3G",
        "outputId": "4ac8d624-0d39-43cb-b16c-4284da1808ef"
      },
      "execution_count": 6,
      "outputs": [
        {
          "output_type": "stream",
          "name": "stdout",
          "text": [
            "La matriz N sin transponer es : \n",
            "[[15  9  7]\n",
            " [ 1 45  6]\n",
            " [ 7  5  7]]\n",
            "La matriz N transpuesta es :\n",
            "[[15  1  7]\n",
            " [ 9 45  5]\n",
            " [ 7  6  7]]\n"
          ]
        }
      ]
    }
  ]
}